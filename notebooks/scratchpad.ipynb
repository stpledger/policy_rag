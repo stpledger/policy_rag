{
 "cells": [
  {
   "cell_type": "code",
   "execution_count": 2,
   "id": "ab2c024f",
   "metadata": {},
   "outputs": [
    {
     "name": "stdout",
     "output_type": "stream",
     "text": [
      "(1, 'Who loses if US colleges lose international students?', 'July 28, 2025', 'https://www.brookings.edu/articles/who-loses-if-us-colleges-lose-international-students/')\n",
      "(2, 'Loper ruling reshapes balance of power in education', 'July 28, 2025', 'https://www.brookings.edu/articles/loper-ruling-reshapes-balance-of-power-in-education/')\n",
      "(3, 'Budget cuts threaten federal protections for homeless students', 'July 21, 2025', 'https://www.brookings.edu/articles/budget-cuts-threaten-federal-protections-for-homeless-students/')\n",
      "(4, 'Legal experts weigh in on the implications of the 2025 Supreme Court term for K-12 education', 'July 15, 2025', 'https://www.brookings.edu/articles/legal-experts-weigh-in-on-the-implications-of-the-2025-supreme-court-term-for-k-12-education/')\n",
      "(5, 'Block granting federal education funds comes with trade-offs', 'July 15, 2025', 'https://www.brookings.edu/articles/block-granting-federal-education-funds-comes-with-trade-offs/')\n"
     ]
    }
   ],
   "source": [
    "import sqlite3\n",
    "\n",
    "conn = sqlite3.connect('main.db')\n",
    "cursor = conn.cursor()\n",
    "\n",
    "cursor.execute(\"SELECT id, title, published_date, url FROM articles LIMIT 5\")\n",
    "rows = cursor.fetchall()\n",
    "\n",
    "for row in rows:\n",
    "    print(row)\n",
    "\n",
    "conn.close()"
   ]
  },
  {
   "cell_type": "code",
   "execution_count": 4,
   "id": "1f8b4b0d",
   "metadata": {},
   "outputs": [
    {
     "name": "stdout",
     "output_type": "stream",
     "text": [
      "Query: What are the latest trends in the stock market?\n",
      "\n",
      "\tTitle: S&P 500 rebounds after 2 days of losses, Nvidia leads gain as it reaches $4 trillion market value: Live updates - CNBC\n",
      "\tURL: https://www.cnbc.com/2025/07/08/stock-market-today-live-updates.html\n",
      "\tContent: The S&amp;P 500 rose Wednesday, led by tech, as Nvidia reached a major milestone and investors monitored the latest tariff updates from President Donald Trump.\n",
      "The broad market benchmark climbed 0.3…\n",
      "\n",
      "\tTitle: Asia Set for Cautious Open as Trump Doubles Down: Markets Wrap - Bloomberg\n",
      "\tURL: https://www.bloomberg.com/news/articles/2025-07-08/stock-market-today-dow-s-p-live-updates\n",
      "\tContent: A rally in several big techs spurred a rebound in stocks, with Nvidia Corp. briefly hitting $4 trillion - the first company in history to achieve that milestone. Treasuries rose before a $39 billion …\n",
      "\n",
      "\tTitle: Bank of America delivers bold S&P 500 target - TheStreet\n",
      "\tURL: https://www.thestreet.com/investing/bank-of-america-delivers-bold-s-p-500-target\n",
      "\tContent: The S&amp;P 500 is widely considered the benchmark index most investors use to measure performance for good reason. It includes 500 of the largest companies in America, crisscrossing sectors and indu…\n",
      "\n",
      "\tTitle: Treasury yields move lower as investors monitor latest tariff news - CNBC\n",
      "\tURL: https://www.cnbc.com/2025/07/09/treasury-yields-move-lower-as-investors-monitor-latest-tariff-news.html\n",
      "\tContent: U.S. Treasury yields were lower on Wednesday as investors monitored the latest tariff developments after President Donald Trump sent letters dictating new tariff rates to at least 14 countries.\n",
      "The …\n",
      "\n",
      "Answer: The latest trends in the stock market include a rise in the S&P 500, led by tech companies such as Nvidia Corp. which recently hit a major milestone by briefly reaching a $4 trillion valuation. Additionally, U.S. Treasury yields were lower as investors monitored the latest tariff developments.\n"
     ]
    }
   ],
   "source": [
    "from dotenv import load_dotenv\n",
    "load_dotenv()\n",
    "\n",
    "from rag_pipeline import ask_question\n",
    "\n",
    "query = \"What are the latest trends in the stock market?\"\n",
    "result = ask_question(query)\n",
    "\n",
    "print(f\"Query: {query}\\n\")\n",
    "\n",
    "for doc in result['context']:\n",
    "    print(f\"\\tTitle: {doc.metadata.get('title')}\")\n",
    "    print(f\"\\tURL: {doc.metadata.get('url')}\")\n",
    "    print(f\"\\tContent: {doc.page_content[:200]}\\n\")\n",
    "\n",
    "print(f\"Answer: {result['answer']}\")"
   ]
  }
 ],
 "metadata": {
  "kernelspec": {
   "display_name": "finance_rag",
   "language": "python",
   "name": "python3"
  },
  "language_info": {
   "codemirror_mode": {
    "name": "ipython",
    "version": 3
   },
   "file_extension": ".py",
   "mimetype": "text/x-python",
   "name": "python",
   "nbconvert_exporter": "python",
   "pygments_lexer": "ipython3",
   "version": "3.10.18"
  }
 },
 "nbformat": 4,
 "nbformat_minor": 5
}
