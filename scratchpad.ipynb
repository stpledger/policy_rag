{
 "cells": [
  {
   "cell_type": "code",
   "execution_count": 1,
   "id": "ab2c024f",
   "metadata": {},
   "outputs": [
    {
     "name": "stdout",
     "output_type": "stream",
     "text": [
      "(1, 'Court blocks FTC ‘click to cancel’ rule designed to ease unsubscribing - The Washington Post', '2025-07-09T16:46:10Z', 'https://www.washingtonpost.com/business/2025/07/09/ftc-us-court-block-click-to-cancel/')\n",
      "(2, 'New Prime Day Deals Are Here, and These 117+ Are the Best Ones We Found - NBC News', '2025-07-09T16:29:00Z', 'https://www.nbcnews.com/select/shopping/amazon-prime-day-deals-2025-rcna217691')\n",
      "(3, 'S&P 500 rebounds after 2 days of losses, Nvidia leads gain as it reaches $4 trillion market value: Live updates - CNBC', '2025-07-09T16:22:00Z', 'https://www.cnbc.com/2025/07/08/stock-market-today-live-updates.html')\n",
      "(4, \"Linda Yaccarino announces her departure from Musk's X - BBC\", '2025-07-09T15:01:08Z', 'https://www.bbc.com/news/articles/cx2gy3j9xq6o')\n",
      "(5, 'Croffle Cloud, Fawaffle, Smashadilla: Meet this year’s new State Fair foods - Star Tribune', '2025-07-09T14:33:29Z', 'https://www.startribune.com/new-foods-minnesota-state-fair-2025/601339663')\n"
     ]
    }
   ],
   "source": [
    "import sqlite3\n",
    "\n",
    "# Connect to the database\n",
    "conn = sqlite3.connect('finance_news.db')\n",
    "cursor = conn.cursor()\n",
    "\n",
    "# Query the first 5 articles\n",
    "cursor.execute(\"SELECT id, title, published_date, url FROM articles LIMIT 5\")\n",
    "rows = cursor.fetchall()\n",
    "\n",
    "for row in rows:\n",
    "    print(row)\n",
    "\n",
    "conn.close()"
   ]
  }
 ],
 "metadata": {
  "kernelspec": {
   "display_name": "finance_rag",
   "language": "python",
   "name": "python3"
  },
  "language_info": {
   "codemirror_mode": {
    "name": "ipython",
    "version": 3
   },
   "file_extension": ".py",
   "mimetype": "text/x-python",
   "name": "python",
   "nbconvert_exporter": "python",
   "pygments_lexer": "ipython3",
   "version": "3.10.18"
  }
 },
 "nbformat": 4,
 "nbformat_minor": 5
}
