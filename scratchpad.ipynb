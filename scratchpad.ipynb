{
 "cells": [
  {
   "cell_type": "code",
   "execution_count": null,
   "id": "ab2c024f",
   "metadata": {},
   "outputs": [
    {
     "name": "stdout",
     "output_type": "stream",
     "text": [
      "(1, 'Court blocks FTC ‘click to cancel’ rule designed to ease unsubscribing - The Washington Post', '2025-07-09T16:46:10Z', 'https://www.washingtonpost.com/business/2025/07/09/ftc-us-court-block-click-to-cancel/')\n",
      "(2, 'New Prime Day Deals Are Here, and These 117+ Are the Best Ones We Found - NBC News', '2025-07-09T16:29:00Z', 'https://www.nbcnews.com/select/shopping/amazon-prime-day-deals-2025-rcna217691')\n",
      "(3, 'S&P 500 rebounds after 2 days of losses, Nvidia leads gain as it reaches $4 trillion market value: Live updates - CNBC', '2025-07-09T16:22:00Z', 'https://www.cnbc.com/2025/07/08/stock-market-today-live-updates.html')\n",
      "(4, \"Linda Yaccarino announces her departure from Musk's X - BBC\", '2025-07-09T15:01:08Z', 'https://www.bbc.com/news/articles/cx2gy3j9xq6o')\n",
      "(5, 'Croffle Cloud, Fawaffle, Smashadilla: Meet this year’s new State Fair foods - Star Tribune', '2025-07-09T14:33:29Z', 'https://www.startribune.com/new-foods-minnesota-state-fair-2025/601339663')\n"
     ]
    }
   ],
   "source": [
    "import sqlite3\n",
    "\n",
    "conn = sqlite3.connect('finance_news.db')\n",
    "cursor = conn.cursor()\n",
    "\n",
    "cursor.execute(\"SELECT id, title, published_date, url FROM articles LIMIT 5\")\n",
    "rows = cursor.fetchall()\n",
    "\n",
    "for row in rows:\n",
    "    print(row)\n",
    "\n",
    "conn.close()"
   ]
  },
  {
   "cell_type": "code",
   "execution_count": 4,
   "id": "1f8b4b0d",
   "metadata": {},
   "outputs": [
    {
     "name": "stdout",
     "output_type": "stream",
     "text": [
      "Query: What are the latest trends in the stock market?\n",
      "\n",
      "\tTitle: S&P 500 rebounds after 2 days of losses, Nvidia leads gain as it reaches $4 trillion market value: Live updates - CNBC\n",
      "\tURL: https://www.cnbc.com/2025/07/08/stock-market-today-live-updates.html\n",
      "\tContent: The S&amp;P 500 rose Wednesday, led by tech, as Nvidia reached a major milestone and investors monitored the latest tariff updates from President Donald Trump.\n",
      "The broad market benchmark climbed 0.3…\n",
      "\n",
      "\tTitle: Asia Set for Cautious Open as Trump Doubles Down: Markets Wrap - Bloomberg\n",
      "\tURL: https://www.bloomberg.com/news/articles/2025-07-08/stock-market-today-dow-s-p-live-updates\n",
      "\tContent: A rally in several big techs spurred a rebound in stocks, with Nvidia Corp. briefly hitting $4 trillion - the first company in history to achieve that milestone. Treasuries rose before a $39 billion …\n",
      "\n",
      "\tTitle: Bank of America delivers bold S&P 500 target - TheStreet\n",
      "\tURL: https://www.thestreet.com/investing/bank-of-america-delivers-bold-s-p-500-target\n",
      "\tContent: The S&amp;P 500 is widely considered the benchmark index most investors use to measure performance for good reason. It includes 500 of the largest companies in America, crisscrossing sectors and indu…\n",
      "\n",
      "\tTitle: Treasury yields move lower as investors monitor latest tariff news - CNBC\n",
      "\tURL: https://www.cnbc.com/2025/07/09/treasury-yields-move-lower-as-investors-monitor-latest-tariff-news.html\n",
      "\tContent: U.S. Treasury yields were lower on Wednesday as investors monitored the latest tariff developments after President Donald Trump sent letters dictating new tariff rates to at least 14 countries.\n",
      "The …\n",
      "\n",
      "Answer: The latest trends in the stock market include a rise in the S&P 500, led by tech companies such as Nvidia Corp. which recently hit a major milestone by briefly reaching a $4 trillion valuation. Additionally, U.S. Treasury yields were lower as investors monitored the latest tariff developments.\n"
     ]
    }
   ],
   "source": [
    "from dotenv import load_dotenv\n",
    "load_dotenv()\n",
    "\n",
    "from rag_pipeline import ask_question\n",
    "\n",
    "query = \"What are the latest trends in the stock market?\"\n",
    "result = ask_question(query)\n",
    "\n",
    "print(f\"Query: {query}\\n\")\n",
    "\n",
    "for doc in result['context']:\n",
    "    print(f\"\\tTitle: {doc.metadata.get('title')}\")\n",
    "    print(f\"\\tURL: {doc.metadata.get('url')}\")\n",
    "    print(f\"\\tContent: {doc.page_content[:200]}\\n\")\n",
    "\n",
    "print(f\"Answer: {result['answer']}\")"
   ]
  }
 ],
 "metadata": {
  "kernelspec": {
   "display_name": "finance_rag",
   "language": "python",
   "name": "python3"
  },
  "language_info": {
   "codemirror_mode": {
    "name": "ipython",
    "version": 3
   },
   "file_extension": ".py",
   "mimetype": "text/x-python",
   "name": "python",
   "nbconvert_exporter": "python",
   "pygments_lexer": "ipython3",
   "version": "3.10.18"
  }
 },
 "nbformat": 4,
 "nbformat_minor": 5
}
